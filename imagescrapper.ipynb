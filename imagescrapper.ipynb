{
 "cells": [
  {
   "cell_type": "code",
   "execution_count": 1,
   "id": "7a463f0b-a76f-4014-b8e9-0ffcc5c31826",
   "metadata": {},
   "outputs": [],
   "source": [
    "import requests\n",
    "import logging\n",
    "import os\n",
    "\n",
    "from bs4 import BeautifulSoup\n",
    "from urllib.request import urlopen"
   ]
  },
  {
   "cell_type": "code",
   "execution_count": 2,
   "id": "e6838986-3967-49a5-8f29-59d711c6b2da",
   "metadata": {},
   "outputs": [],
   "source": [
    "#lets create directory and save the images from the google "
   ]
  },
  {
   "cell_type": "code",
   "execution_count": 3,
   "id": "c9df4bb8-cee4-4b64-b093-0e89cd35a899",
   "metadata": {},
   "outputs": [],
   "source": [
    "save_dir=\"images/\"\n",
    "if not os.path.exists(save_dir):\n",
    "    os.makedirs(save_dir)"
   ]
  },
  {
   "cell_type": "code",
   "execution_count": 24,
   "id": "741b92f8-579a-4d8a-9c23-9ebb00710a15",
   "metadata": {},
   "outputs": [],
   "source": [
    "query=\"virat kholi\"\n",
    "# url=https://www.google.com/search?q=elon+musk&tbm=isch&sxsrf=AB5stBgBDcgOTZB3uBQj3oGMwytO-R_M5w%3A1690888864538&source=hp&biw=767&bih=736&ei=oOrIZJGNHpCbkdUPoPGwiAs&iflsig=AD69kcEAAAAAZMj4sILKv-Rek0QPhJdnJvII7_EYlWma&ved=0ahUKEwiR3f3wq7uAAxWQTaQEHaA4DLEQ4dUDCAc&uact=5&oq=elon+musk&gs_lp=EgNpbWciCWVsb24gbXVzazIEECMYJzIIEAAYgAQYsQMyCxAAGIAEGLEDGIMBMgUQABiABDIFEAAYgAQyBRAAGIAEMgUQABiABDIFEAAYgAQyBRAAGIAEMgUQABiABEjcMVD9IFj_LnABeACQAQCYAf0BoAGtDqoBBTAuNi4zuAEDyAEA-AEBigILZ3dzLXdpei1pbWeoAgrCAgcQIxjqAhgnwgIIEAAYsQMYgwE&sclient=img"
   ]
  },
  {
   "cell_type": "code",
   "execution_count": 25,
   "id": "650cef85-eede-4fa3-a51d-ebcf3121233c",
   "metadata": {},
   "outputs": [],
   "source": [
    "response=requests.get(f\"https://www.google.com/search?q={query}&tbm=isch&sxsrf=AB5stBgBDcgOTZB3uBQj3oGMwytO-R_M5w%3A1690888864538&source=hp&biw=767&bih=736&ei=oOrIZJGNHpCbkdUPoPGwiAs&iflsig=AD69kcEAAAAAZMj4sILKv-Rek0QPhJdnJvII7_EYlWma&ved=0ahUKEwiR3f3wq7uAAxWQTaQEHaA4DLEQ4dUDCAc&uact=5&oq=elon+musk&gs_lp=EgNpbWciCWVsb24gbXVzazIEECMYJzIIEAAYgAQYsQMyCxAAGIAEGLEDGIMBMgUQABiABDIFEAAYgAQyBRAAGIAEMgUQABiABDIFEAAYgAQyBRAAGIAEMgUQABiABEjcMVD9IFj_LnABeACQAQCYAf0BoAGtDqoBBTAuNi4zuAEDyAEA-AEBigILZ3dzLXdpei1pbWeoAgrCAgcQIxjqAhgnwgIIEAAYsQMYgwE&sclient=img\")"
   ]
  },
  {
   "cell_type": "code",
   "execution_count": 26,
   "id": "d14c63dd-85e4-4a38-b609-272dbda35ea4",
   "metadata": {},
   "outputs": [
    {
     "data": {
      "text/plain": [
       "<Response [200]>"
      ]
     },
     "execution_count": 26,
     "metadata": {},
     "output_type": "execute_result"
    }
   ],
   "source": [
    "response"
   ]
  },
  {
   "cell_type": "code",
   "execution_count": 27,
   "id": "0631db84-9e15-4556-bb16-516ef73366e5",
   "metadata": {},
   "outputs": [],
   "source": [
    "#lets fetch the content from our response\n",
    "\n"
   ]
  },
  {
   "cell_type": "code",
   "execution_count": 28,
   "id": "74713211-5220-454f-90a3-34a58714076e",
   "metadata": {},
   "outputs": [],
   "source": [
    "soup=BeautifulSoup(response.content, \"html.parser\")"
   ]
  },
  {
   "cell_type": "code",
   "execution_count": 29,
   "id": "17ec5f10-73c2-4925-a5df-422738138bbf",
   "metadata": {},
   "outputs": [
    {
     "data": {
      "text/plain": [
       "<!DOCTYPE html PUBLIC \"-//WAPFORUM//DTD XHTML Mobile 1.0//EN\" \"http://www.wapforum.org/DTD/xhtml-mobile10.dtd\">\n",
       "<html dir=\"rtl\" lang=\"ar-SA\" xmlns=\"http://www.w3.org/1999/xhtml\"><head><meta content=\"application/xhtml+xml; charset=utf-8\" http-equiv=\"Content-Type\"/><meta content=\"no-cache\" name=\"Cache-Control\"/><title dir=\"ltr\">virat kholi - بحث Google</title><style>a{text-decoration:none;color:inherit}a:hover{text-decoration:underline}a img{border:0}body{font-family:arial,sans-serif;padding:8px;margin:0 auto;max-width:700px;min-width:240px;}.FbhRzb{border-right:thin solid #dadce0;border-left:thin solid #dadce0;border-top:thin solid #dadce0;height:40px;overflow:hidden}.n692Zd{margin-bottom:10px}.cvifge{height:40px;border-spacing:0}.QvGUP{height:40px;padding:0 8px 0 8px;vertical-align:top}.O4cRJf{height:40px;width:100%;padding:0;padding-left:16px}.O1ePr{height:40px;padding:0;vertical-align:top}.kgJEQe{height:36px;width:98px;vertical-align:top;margin-top:4px}.lXLRf{vertical-align:top}.MhzMZd{border:0;vertical-align:middle;font-size:14px;height:40px;padding:0;width:100%;padding-right:16px}.xB0fq{height:40px;border:none;font-size:14px;background-color:#1a73e8;color:#fff;padding:0 16px;margin:0;vertical-align:top;cursor:pointer}.xB0fq:focus{border:1px solid #1a73e8}.M7pB2{border:thin solid #dadce0;margin:0 0 3px 0;font-size:13px;font-weight:500;height:40px}.euZec{width:100%;height:40px;text-align:center;border-spacing:0}table.euZec td{padding:0;width:25%}.QIqI7{display:inline-block;padding-top:4px;font-weight:bold;color:#4285f4}.EY24We{border-bottom:2px solid #4285f4}.CsQyDc{display:inline-block;color:#70757a}.TuS8Ad{font-size:14px}.HddGcc{padding:8px;color:#70757a}.dzp8ae{font-weight:bold;color:#3c4043}.rEM8G{color:#70757a}.bookcf{table-layout:fixed;width:100%;border-spacing:0}.InWNIe{text-align:center}.uZgmoc{border:thin solid #dadce0;color:#70757a;font-size:14px;text-align:center;table-layout:fixed;width:100%}.frGj1b{display:block;padding:12px 0 12px 0;width:100%}.BnJWBc{text-align:center;padding:6px 0 13px 0;height:35px}.e3goi{vertical-align:top;padding:0;height:180px}.GpQGbf{margin:auto;border-collapse:collapse;border-spacing:0;width:100%}</style></head><body><style>.X6ZCif{color:#202124;font-size:11px;line-height:16px;display:inline-block;padding-top:2px;overflow:hidden;padding-bottom:4px;width:100%}.TwVfHd{border-radius:16px;border:thin solid #dadce0;display:inline-block;padding:8px 8px;margin-left:8px;margin-bottom:4px}.yekiAe{background-color:#dadce0}.ezO2md{border:thin solid #dadce0;padding:12px 16px 12px 16px;margin-bottom:10px;font-family:arial,sans-serif}.lIMUZd{font-family:arial,sans-serif}.kk667b{padding-bottom:12px}.Mw6wOc{width:100%;border-spacing:0}.fBgPuf{padding-bottom:12px}.K3JWGf{display:block;float:left;padding-right:16px;max-width:72px;max-height:72px}.CSfvHb{padding-bottom:8px}.fYyStc{word-break:break-word}.ynsChf{display:block;white-space:nowrap;overflow:hidden;text-overflow:ellipsis}.Fj3V3b{color:#1967d2;font-size:14px;line-height:20px}.FrIlee{color:#202124;font-size:11px;line-height:16px}.F9iS2e{color:#70757a;font-size:11px;line-height:16px}.WMQ2Le{color:#70757a;font-size:12px;line-height:16px}.x3G5ab{color:#202124;font-size:12px;line-height:16px}.fuLhoc{color:#1967d2;font-size:16px;line-height:20px}.epoveb{font-size:24px;line-height:28px;font-weight:400;color:#202124}.dXDvrc{color:#0d652d;font-size:14px;line-height:20px;word-wrap:break-word}.dloBPe{font-weight:bold}.YVIcad{color:#70757a}.JkVVdd{color:#ea4335}.oXZRFd{color:#ea4335}.MQHtg{color:#fbbc04}.pyMRrb{color:#1e8e3e}.EtTZid{color:#1e8e3e}.M3vVJe{color:#1967d2}.qXLe6d{display:block}.NHQNef{font-style:italic}.Cb8Z7c{white-space:pre}a.ZWRArf{text-decoration:none}a .CVA68e:hover{text-decoration:underline}.mnTahd{width:100%}.IkMU6e{border-spacing:0}.SjCsie{width:100%}.EnarA{text-align:center}.NZWO1b{width:162px;height:140px;line-height:140px;overflow:'hidden';text-align:center}.yWs4tf{text-align:center;margin:auto;vertical-align:middle;max-width:162px;max-height:140px}.jB2rPd{padding-top:2px;padding-bottom:8px;}</style><div class=\"n692Zd\"><div class=\"BnJWBc\"><a class=\"lXLRf\" href=\"/?biw=767&amp;bih=736&amp;output=images&amp;ie=UTF-8&amp;tbm=isch&amp;sa=X&amp;ved=0ahUKEwickNPDub2AAxXmXvEDHTWCD0AQPAgC\"><img alt=\"Google\" class=\"kgJEQe\" src=\"/images/branding/searchlogo/1x/googlelogo_desk_heirloom_color_150x55dp.gif\"/></a></div><div class=\"FbhRzb\"><form action=\"/search\"><input name=\"biw\" type=\"hidden\" value=\"767\"/><input name=\"bih\" type=\"hidden\" value=\"736\"/><input name=\"ie\" type=\"hidden\" value=\"ISO-8859-1\"/><input name=\"tbm\" type=\"hidden\" value=\"isch\"/><input name=\"oq\" type=\"hidden\"/><input name=\"aqs\" type=\"hidden\"/><table class=\"cvifge\"><tr><td class=\"O4cRJf\"><input class=\"MhzMZd\" name=\"q\" type=\"text\" value=\"virat kholi\"/></td><td class=\"O1ePr\"><input class=\"xB0fq\" type=\"submit\" value=\"بحث\"/></td></tr></table></form></div><div class=\"M7pB2\"><table class=\"euZec\"><tbody><tr><td><a class=\"CsQyDc\" href=\"/search?q=virat+kohli&amp;biw=767&amp;bih=736&amp;ie=UTF-8&amp;source=lnms&amp;sa=X&amp;ved=0ahUKEwickNPDub2AAxXmXvEDHTWCD0AQ_AUIBCgA\">الكل</a></td><td class=\"EY24We\"><span class=\"QIqI7\">صور</span></td><td><a class=\"CsQyDc\" href=\"/search?q=virat+kohli&amp;biw=767&amp;bih=736&amp;ie=UTF-8&amp;tbm=nws&amp;source=lnms&amp;sa=X&amp;ved=0ahUKEwickNPDub2AAxXmXvEDHTWCD0AQ_AUIBigC\">الأخبار</a></td><td><a class=\"CsQyDc\" href=\"/search?q=virat+kohli&amp;biw=767&amp;bih=736&amp;ie=UTF-8&amp;tbm=vid&amp;source=lnms&amp;sa=X&amp;ved=0ahUKEwickNPDub2AAxXmXvEDHTWCD0AQ_AUIBygD\">فيديو</a></td></tr></tbody></table></div></div><div><div> <div> <div class=\"lIMUZd\"><div><table class=\"Mw6wOc\"><tbody><tr><td><div> <div> <span class=\"qXLe6d F9iS2e\"> <span class=\"fYyStc\">عرض النتائج عن </span> <a class=\"dloBPe M3vVJe\" href=\"/search?biw=767&amp;bih=736&amp;ie=UTF-8&amp;tbm=isch&amp;q=virat+kohli&amp;spell=1&amp;sa=X&amp;ved=2ahUKEwickNPDub2AAxXmXvEDHTWCD0AQvwV6BAgUEAE\"><span dir=\"ltr\">virat kohli</span></a> <span class=\"fYyStc\">\n",
       "</span> <span class=\"fYyStc\">البحث بدلاً من ذلك عن </span> <a class=\"M3vVJe\" href=\"/search?biw=767&amp;bih=736&amp;ie=UTF-8&amp;tbm=isch&amp;q=virat+kholi&amp;nfpr=1&amp;sa=X&amp;ved=2ahUKEwickNPDub2AAxXmXvEDHTWCD0AQvgV6BAgUEAI\"><span dir=\"ltr\">virat kholi</span></a> </span> </div> </div></td></tr></tbody></table></div></div> </div> </div><table class=\"GpQGbf\"><tr><td align=\"center\" class=\"e3goi\"><div class=\"mnTahd\"> <div> <div class=\"lIMUZd\"><div><table class=\"IkMU6e\"><tr><td><a href=\"/url?q=https://en.wikipedia.org/wiki/Virat_Kohli&amp;sa=U&amp;ved=2ahUKEwickNPDub2AAxXmXvEDHTWCD0AQqoUBegQICBAB&amp;usg=AOvVaw02XXVSVolan_vlcsZd8QnE\"><div class=\"NZWO1b\"><img alt=\"\" class=\"yWs4tf\" src=\"https://encrypted-tbn0.gstatic.com/images?q=tbn:ANd9GcSApOD8cC7Jh33c0VqbcFkcmx0og9wr1DYsD50a8Tp3p-0I33M_SuuLXA0Kizk&amp;s\"/></div></a></td></tr><tr><td><a href=\"/url?q=https://en.wikipedia.org/wiki/Virat_Kohli&amp;sa=U&amp;ved=2ahUKEwickNPDub2AAxXmXvEDHTWCD0AQr4kDegQICBAC&amp;usg=AOvVaw1LbuHzq2EaZvOzw9VVKJCo\"><div class=\"jB2rPd\"> <span class=\"qXLe6d x3G5ab\"> <span class=\"fYyStc\" dir=\"ltr\">Virat Kohli - Wikipedia</span> </span> <span class=\"qXLe6d F9iS2e\"> <span class=\"fYyStc\" dir=\"ltr\">en.wikipedia.org</span> </span> </div></a></td></tr></table></div></div> </div> </div></td><td align=\"center\" class=\"e3goi\"><div class=\"mnTahd\"> <div> <div class=\"lIMUZd\"><div><table class=\"IkMU6e\"><tr><td><a href=\"/url?q=https://www.espncricinfo.com/cricketers/virat-kohli-253802&amp;sa=U&amp;ved=2ahUKEwickNPDub2AAxXmXvEDHTWCD0AQqoUBegQIExAB&amp;usg=AOvVaw1aYyjD1_f7hTCYoXDaTk4V\"><div class=\"NZWO1b\"><img alt=\"\" class=\"yWs4tf\" src=\"https://encrypted-tbn0.gstatic.com/images?q=tbn:ANd9GcSK5yCaJ2Z89H3mjG2pVjY9N4R5oiPNQPgSk0yYX4Wiv3mMSccD2ttNoKKUgg&amp;s\"/></div></a></td></tr><tr><td><a href=\"/url?q=https://www.espncricinfo.com/cricketers/virat-kohli-253802&amp;sa=U&amp;ved=2ahUKEwickNPDub2AAxXmXvEDHTWCD0AQr4kDegQIExAC&amp;usg=AOvVaw15lObxwUk-jOsAB7EvlNIo\"><div class=\"jB2rPd\"> <span class=\"qXLe6d x3G5ab\"> <span class=\"fYyStc\" dir=\"ltr\">Virat Kohli Profile -...</span> </span> <span class=\"qXLe6d F9iS2e\"> <span class=\"fYyStc\" dir=\"ltr\">www.espncricinfo.com</span> </span> </div></a></td></tr></table></div></div> </div> </div></td><td align=\"center\" class=\"e3goi\"><div class=\"mnTahd\"> <div> <div class=\"lIMUZd\"><div><table class=\"IkMU6e\"><tr><td><a href=\"/url?q=https://indianexpress.com/web-stories/sports/kohli-scores-first-overseas-ton-in-nearly-five-years/&amp;sa=U&amp;ved=2ahUKEwickNPDub2AAxXmXvEDHTWCD0AQqoUBegQIEhAB&amp;usg=AOvVaw2QRLMox5MGr3yOq730TKge\"><div class=\"NZWO1b\"><img alt=\"\" class=\"yWs4tf\" src=\"https://encrypted-tbn0.gstatic.com/images?q=tbn:ANd9GcRgzdUeq9HxpXKazE9Sta7mayYY92h-bx-kM3-yf1fwJS_Z1MwlW4N_HNZKa9U&amp;s\"/></div></a></td></tr><tr><td><a href=\"/url?q=https://indianexpress.com/web-stories/sports/kohli-scores-first-overseas-ton-in-nearly-five-years/&amp;sa=U&amp;ved=2ahUKEwickNPDub2AAxXmXvEDHTWCD0AQr4kDegQIEhAC&amp;usg=AOvVaw0qcpHLrbwwO6vG7e9b6KUk\"><div class=\"jB2rPd\"> <span class=\"qXLe6d x3G5ab\"> <span class=\"fYyStc\" dir=\"ltr\">Virat Kohli scores first...</span> </span> <span class=\"qXLe6d F9iS2e\"> <span class=\"fYyStc\" dir=\"ltr\">indianexpress.com</span> </span> </div></a></td></tr></table></div></div> </div> </div></td><td align=\"center\" class=\"e3goi\"><div class=\"mnTahd\"> <div> <div class=\"lIMUZd\"><div><table class=\"IkMU6e\"><tr><td><a href=\"/url?q=https://www.forbes.com/profile/virat-kohli/&amp;sa=U&amp;ved=2ahUKEwickNPDub2AAxXmXvEDHTWCD0AQqoUBegQIERAB&amp;usg=AOvVaw1QViU1Xz-KAMYmmCFt_cBx\"><div class=\"NZWO1b\"><img alt=\"\" class=\"yWs4tf\" src=\"https://encrypted-tbn0.gstatic.com/images?q=tbn:ANd9GcQXhRozPeN_ofFzgMvQcHZvcplv3EpOrLtmrSnBG88kwoJo8RFn0Ev3aLykTYA&amp;s\"/></div></a></td></tr><tr><td><a href=\"/url?q=https://www.forbes.com/profile/virat-kohli/&amp;sa=U&amp;ved=2ahUKEwickNPDub2AAxXmXvEDHTWCD0AQr4kDegQIERAC&amp;usg=AOvVaw2gJYYGlNyJvmhoRnJTcLL_\"><div class=\"jB2rPd\"> <span class=\"qXLe6d x3G5ab\"> <span class=\"fYyStc\" dir=\"ltr\">0x0.jpg?format=jpg&amp;crop=233...</span> </span> <span class=\"qXLe6d F9iS2e\"> <span class=\"fYyStc\" dir=\"ltr\">www.forbes.com</span> </span> </div></a></td></tr></table></div></div> </div> </div></td></tr><tr><td align=\"center\" class=\"e3goi\"><div class=\"mnTahd\"> <div> <div class=\"lIMUZd\"><div><table class=\"IkMU6e\"><tr><td><a href=\"/url?q=https://ar.wikipedia.org/wiki/%25D9%2581%25D9%258A%25D8%25B1%25D8%25A7%25D8%25AA_%25D9%2583%25D9%2588%25D9%2587%25D9%2584%25D9%258A&amp;sa=U&amp;ved=2ahUKEwickNPDub2AAxXmXvEDHTWCD0AQqoUBegQIDBAB&amp;usg=AOvVaw0EcyK32DzcS9oFnm21Fb31\"><div class=\"NZWO1b\"><img alt=\"\" class=\"yWs4tf\" src=\"https://encrypted-tbn0.gstatic.com/images?q=tbn:ANd9GcQJ13sUKet8ElnI74O4r8mkVpE9vvrZAAaxgOi_NEOPsGWp1c_noZppD1DRsUU&amp;s\"/></div></a></td></tr><tr><td><a href=\"/url?q=https://ar.wikipedia.org/wiki/%25D9%2581%25D9%258A%25D8%25B1%25D8%25A7%25D8%25AA_%25D9%2583%25D9%2588%25D9%2587%25D9%2584%25D9%258A&amp;sa=U&amp;ved=2ahUKEwickNPDub2AAxXmXvEDHTWCD0AQr4kDegQIDBAC&amp;usg=AOvVaw1O0TrQc_EjpRq-SyHYdMK1\"><div class=\"jB2rPd\"> <span class=\"qXLe6d x3G5ab\"> <span class=\"fYyStc\">فيرات كوهلي - ويكيبيديا</span> </span> <span class=\"qXLe6d F9iS2e\"> <span class=\"fYyStc\" dir=\"ltr\">ar.wikipedia.org</span> </span> </div></a></td></tr></table></div></div> </div> </div></td><td align=\"center\" class=\"e3goi\"><div class=\"mnTahd\"> <div> <div class=\"lIMUZd\"><div><table class=\"IkMU6e\"><tr><td><a href=\"/url?q=https://www.timesnownews.com/sports/cricket/india-vs-west-indies-virat-kohli-to-stay-on-bench-for-3rd-odi-vs-wi-team-india-drop-major-hint-article-102279771&amp;sa=U&amp;ved=2ahUKEwickNPDub2AAxXmXvEDHTWCD0AQqoUBegQIDhAB&amp;usg=AOvVaw3U8v5br_zsBR-roI7qLoCk\"><div class=\"NZWO1b\"><img alt=\"\" class=\"yWs4tf\" src=\"https://encrypted-tbn0.gstatic.com/images?q=tbn:ANd9GcRec8fL8OuoYTKa4PYUISRU9hyGvU93SriCzmW0KdVDRHfSTS4bjneJvyI52D0&amp;s\"/></div></a></td></tr><tr><td><a href=\"/url?q=https://www.timesnownews.com/sports/cricket/india-vs-west-indies-virat-kohli-to-stay-on-bench-for-3rd-odi-vs-wi-team-india-drop-major-hint-article-102279771&amp;sa=U&amp;ved=2ahUKEwickNPDub2AAxXmXvEDHTWCD0AQr4kDegQIDhAC&amp;usg=AOvVaw1I8sYJKlfpJUsERx6_tg7H\"><div class=\"jB2rPd\"> <span class=\"qXLe6d x3G5ab\"> <span class=\"fYyStc\" dir=\"ltr\">India vs West Indies: Virat...</span> </span> <span class=\"qXLe6d F9iS2e\"> <span class=\"fYyStc\" dir=\"ltr\">www.timesnownews.com</span> </span> </div></a></td></tr></table></div></div> </div> </div></td><td align=\"center\" class=\"e3goi\"><div class=\"mnTahd\"> <div> <div class=\"lIMUZd\"><div><table class=\"IkMU6e\"><tr><td><a href=\"/url?q=https://www.indiatoday.in/sports/cricket/story/india-world-cup-2023-virat-kohli-virender-sehwag-schedule-announcement-2398542-2023-06-27&amp;sa=U&amp;ved=2ahUKEwickNPDub2AAxXmXvEDHTWCD0AQqoUBegQIChAB&amp;usg=AOvVaw0u8zfJYNsYVvSsWn1kdn_m\"><div class=\"NZWO1b\"><img alt=\"\" class=\"yWs4tf\" src=\"https://encrypted-tbn0.gstatic.com/images?q=tbn:ANd9GcT31MU-l5iezqCLOPE2jeiBB0geQsn8njIF0T290gdxybDBKMJOC5V1jM9QAg&amp;s\"/></div></a></td></tr><tr><td><a href=\"/url?q=https://www.indiatoday.in/sports/cricket/story/india-world-cup-2023-virat-kohli-virender-sehwag-schedule-announcement-2398542-2023-06-27&amp;sa=U&amp;ved=2ahUKEwickNPDub2AAxXmXvEDHTWCD0AQr4kDegQIChAC&amp;usg=AOvVaw1TrJr8dPFbX-xiN2cH1hDK\"><div class=\"jB2rPd\"> <span class=\"qXLe6d x3G5ab\"> <span class=\"fYyStc\" dir=\"ltr\">India would want to win the...</span> </span> <span class=\"qXLe6d F9iS2e\"> <span class=\"fYyStc\" dir=\"ltr\">www.indiatoday.in</span> </span> </div></a></td></tr></table></div></div> </div> </div></td><td align=\"center\" class=\"e3goi\"><div class=\"mnTahd\"> <div> <div class=\"lIMUZd\"><div><table class=\"IkMU6e\"><tr><td><a href=\"/url?q=https://www.livemint.com/technology/tech-news/virat-kohli-uses-rs-20-000-apple-earbuds-but-they-are-not-available-in-india-11690873307717.html&amp;sa=U&amp;ved=2ahUKEwickNPDub2AAxXmXvEDHTWCD0AQqoUBegQICxAB&amp;usg=AOvVaw0pW77cLACbJA_TXBcfXixE\"><div class=\"NZWO1b\"><img alt=\"\" class=\"yWs4tf\" src=\"https://encrypted-tbn0.gstatic.com/images?q=tbn:ANd9GcTMigjDIZoL9TzU8RPGJVsocOv6Sz5y1bl3pY4vqxNrs6-Jwzo8Kw0ihdIHbA&amp;s\"/></div></a></td></tr><tr><td><a href=\"/url?q=https://www.livemint.com/technology/tech-news/virat-kohli-uses-rs-20-000-apple-earbuds-but-they-are-not-available-in-india-11690873307717.html&amp;sa=U&amp;ved=2ahUKEwickNPDub2AAxXmXvEDHTWCD0AQr4kDegQICxAC&amp;usg=AOvVaw08qQKZ0kcHVoZUHeKnlsq7\"><div class=\"jB2rPd\"> <span class=\"qXLe6d x3G5ab\"> <span class=\"fYyStc\" dir=\"ltr\">Virat Kohli uses ₹20,000...</span> </span> <span class=\"qXLe6d F9iS2e\"> <span class=\"fYyStc\" dir=\"ltr\">www.livemint.com</span> </span> </div></a></td></tr></table></div></div> </div> </div></td></tr><tr><td align=\"center\" class=\"e3goi\"><div class=\"mnTahd\"> <div> <div class=\"lIMUZd\"><div><table class=\"IkMU6e\"><tr><td><a href=\"/url?q=https://nationaltoday.com/birthday/virat-kohli/&amp;sa=U&amp;ved=2ahUKEwickNPDub2AAxXmXvEDHTWCD0AQqoUBegQICRAB&amp;usg=AOvVaw0RD0j221cxWTGcaCoYAH08\"><div class=\"NZWO1b\"><img alt=\"\" class=\"yWs4tf\" src=\"https://encrypted-tbn0.gstatic.com/images?q=tbn:ANd9GcRLqGxMbCeVkZIDV3mQfmlpSxuBcW4YTlZBp78_utfaZ7ACU-1GI0fyT3cQVA&amp;s\"/></div></a></td></tr><tr><td><a href=\"/url?q=https://nationaltoday.com/birthday/virat-kohli/&amp;sa=U&amp;ved=2ahUKEwickNPDub2AAxXmXvEDHTWCD0AQr4kDegQICRAC&amp;usg=AOvVaw2lJWJFhvLVauLGuhiwtoOA\"><div class=\"jB2rPd\"> <span class=\"qXLe6d x3G5ab\"> <span class=\"fYyStc\" dir=\"ltr\">Virat Kohli - Age, Bio,...</span> </span> <span class=\"qXLe6d F9iS2e\"> <span class=\"fYyStc\" dir=\"ltr\">nationaltoday.com</span> </span> </div></a></td></tr></table></div></div> </div> </div></td><td align=\"center\" class=\"e3goi\"><div class=\"mnTahd\"> <div> <div class=\"lIMUZd\"><div><table class=\"IkMU6e\"><tr><td><a href=\"/url?q=https://www.siasat.com/tag/virat-kohli/&amp;sa=U&amp;ved=2ahUKEwickNPDub2AAxXmXvEDHTWCD0AQqoUBegQIEBAB&amp;usg=AOvVaw2i3r-Z211mksinYUnwCYe4\"><div class=\"NZWO1b\"><img alt=\"\" class=\"yWs4tf\" src=\"https://encrypted-tbn0.gstatic.com/images?q=tbn:ANd9GcRHlQzK8FbwK4m2XdRphH9iGnQ03FnUFAK76rVzb2YF6De4cXrK8Jt5j9RZq9k&amp;s\"/></div></a></td></tr><tr><td><a href=\"/url?q=https://www.siasat.com/tag/virat-kohli/&amp;sa=U&amp;ved=2ahUKEwickNPDub2AAxXmXvEDHTWCD0AQr4kDegQIEBAC&amp;usg=AOvVaw1ccTOgF5S9qJItGQLhj6z8\"><div class=\"jB2rPd\"> <span class=\"qXLe6d x3G5ab\"> <span class=\"fYyStc\" dir=\"ltr\">Virat Kohli - The Siasat...</span> </span> <span class=\"qXLe6d F9iS2e\"> <span class=\"fYyStc\" dir=\"ltr\">www.siasat.com</span> </span> </div></a></td></tr></table></div></div> </div> </div></td><td align=\"center\" class=\"e3goi\"><div class=\"mnTahd\"> <div> <div class=\"lIMUZd\"><div><table class=\"IkMU6e\"><tr><td><a href=\"/url?q=https://timesofindia.indiatimes.com/sports/cricket/india-in-bangladesh/virat-kohli-slams-72nd-international-ton-surpasses-ricky-ponting-to-go-second-behind-sachin-tendulkar/articleshow/96131593.cms&amp;sa=U&amp;ved=2ahUKEwickNPDub2AAxXmXvEDHTWCD0AQqoUBegQIDxAB&amp;usg=AOvVaw3TtRSDfUY6DNDvTCN7pvMx\"><div class=\"NZWO1b\"><img alt=\"\" class=\"yWs4tf\" src=\"https://encrypted-tbn0.gstatic.com/images?q=tbn:ANd9GcRC7PXGvWDQRZyszF12W3RoXjr_nZ0Ox_CnclTzEmkLtB72VCOpuxZthQ2ib14&amp;s\"/></div></a></td></tr><tr><td><a href=\"/url?q=https://timesofindia.indiatimes.com/sports/cricket/india-in-bangladesh/virat-kohli-slams-72nd-international-ton-surpasses-ricky-ponting-to-go-second-behind-sachin-tendulkar/articleshow/96131593.cms&amp;sa=U&amp;ved=2ahUKEwickNPDub2AAxXmXvEDHTWCD0AQr4kDegQIDxAC&amp;usg=AOvVaw13teZc_m5beDof-ZRbI3Sx\"><div class=\"jB2rPd\"> <span class=\"qXLe6d x3G5ab\"> <span class=\"fYyStc\" dir=\"ltr\">Virat Kohli slams 72nd...</span> </span> <span class=\"qXLe6d F9iS2e\"> <span class=\"fYyStc\" dir=\"ltr\">timesofindia.indiatimes.com...</span> </span> </div></a></td></tr></table></div></div> </div> </div></td><td align=\"center\" class=\"e3goi\"><div class=\"mnTahd\"> <div> <div class=\"lIMUZd\"><div><table class=\"IkMU6e\"><tr><td><a href=\"/url?q=https://www.telegraphindia.com/sports/cricket/in-challenges-virat-kohli-discovers-crickets-beauty/cid/1922557&amp;sa=U&amp;ved=2ahUKEwickNPDub2AAxXmXvEDHTWCD0AQqoUBegQIDRAB&amp;usg=AOvVaw1Fb5UStZGT6ytW48bF3Qlf\"><div class=\"NZWO1b\"><img alt=\"\" class=\"yWs4tf\" src=\"https://encrypted-tbn0.gstatic.com/images?q=tbn:ANd9GcT8x89pLXeMNlm4-Nrjk8kFn2NfKoBA8NLYSyJKnbM6EG-2EewQgiKttVsWrEE&amp;s\"/></div></a></td></tr><tr><td><a href=\"/url?q=https://www.telegraphindia.com/sports/cricket/in-challenges-virat-kohli-discovers-crickets-beauty/cid/1922557&amp;sa=U&amp;ved=2ahUKEwickNPDub2AAxXmXvEDHTWCD0AQr4kDegQIDRAC&amp;usg=AOvVaw38mOKf23Bk1GFHNPaGKovL\"><div class=\"jB2rPd\"> <span class=\"qXLe6d x3G5ab\"> <span class=\"fYyStc\" dir=\"ltr\">Test Cricket | In...</span> </span> <span class=\"qXLe6d F9iS2e\"> <span class=\"fYyStc\" dir=\"ltr\">www.telegraphindia.com</span> </span> </div></a></td></tr></table></div></div> </div> </div></td></tr><tr><td align=\"center\" class=\"e3goi\"><div class=\"mnTahd\"> <div> <div class=\"lIMUZd\"><div><table class=\"IkMU6e\"><tr><td><a href=\"/url?q=https://www.mykhel.com/cricket/players/virat-kohli-p3788/&amp;sa=U&amp;ved=2ahUKEwickNPDub2AAxXmXvEDHTWCD0AQqoUBegQIAxAB&amp;usg=AOvVaw2FZp2gdaTFUWoo5VCgNupc\"><div class=\"NZWO1b\"><img alt=\"\" class=\"yWs4tf\" src=\"https://encrypted-tbn0.gstatic.com/images?q=tbn:ANd9GcTm9WFJuwtEGdCS81c0gSVvF0DTLkE0WZQMntqPjyHiDV6Fe0zPFqkcabcZ7Q&amp;s\"/></div></a></td></tr><tr><td><a href=\"/url?q=https://www.mykhel.com/cricket/players/virat-kohli-p3788/&amp;sa=U&amp;ved=2ahUKEwickNPDub2AAxXmXvEDHTWCD0AQr4kDegQIAxAC&amp;usg=AOvVaw35mHR-_Fugi5YsZ9OuZh4U\"><div class=\"jB2rPd\"> <span class=\"qXLe6d x3G5ab\"> <span class=\"fYyStc\" dir=\"ltr\">Virat Kohli Profile: Age,...</span> </span> <span class=\"qXLe6d F9iS2e\"> <span class=\"fYyStc\" dir=\"ltr\">www.mykhel.com</span> </span> </div></a></td></tr></table></div></div> </div> </div></td><td align=\"center\" class=\"e3goi\"><div class=\"mnTahd\"> <div> <div class=\"lIMUZd\"><div><table class=\"IkMU6e\"><tr><td><a href=\"/url?q=https://m.rediff.com/cricket/report/not-scoring-big-was-eating-me-up-says-virat-kohli-india-australia/20230314.htm&amp;sa=U&amp;ved=2ahUKEwickNPDub2AAxXmXvEDHTWCD0AQqoUBegQIBhAB&amp;usg=AOvVaw1nbfpzlrQfPxthEEZqJSP5\"><div class=\"NZWO1b\"><img alt=\"\" class=\"yWs4tf\" src=\"https://encrypted-tbn0.gstatic.com/images?q=tbn:ANd9GcRmKb8IQ-xIUjPuCLSmVUxPfwIUgdHh-cUn0nbOnpuFtSRA9QMHEcZ8GGSW6R4&amp;s\"/></div></a></td></tr><tr><td><a href=\"/url?q=https://m.rediff.com/cricket/report/not-scoring-big-was-eating-me-up-says-virat-kohli-india-australia/20230314.htm&amp;sa=U&amp;ved=2ahUKEwickNPDub2AAxXmXvEDHTWCD0AQr4kDegQIBhAC&amp;usg=AOvVaw3c_UuO5SR81ngnKBAyWNpp\"><div class=\"jB2rPd\"> <span class=\"qXLe6d x3G5ab\"> <span class=\"fYyStc\" dir=\"ltr\">Not scoring big was eating...</span> </span> <span class=\"qXLe6d F9iS2e\"> <span class=\"fYyStc\" dir=\"ltr\">m.rediff.com</span> </span> </div></a></td></tr></table></div></div> </div> </div></td><td align=\"center\" class=\"e3goi\"><div class=\"mnTahd\"> <div> <div class=\"lIMUZd\"><div><table class=\"IkMU6e\"><tr><td><a href=\"/url?q=https://www.youtube.com/watch%3Fv%3DjkaBPZ5RqYY&amp;sa=U&amp;ved=2ahUKEwickNPDub2AAxXmXvEDHTWCD0AQqoUBegQIARAB&amp;usg=AOvVaw3Yw2SI3SEpGYAJVc-h0iVY\"><div class=\"NZWO1b\"><img alt=\"\" class=\"yWs4tf\" src=\"https://encrypted-tbn0.gstatic.com/images?q=tbn:ANd9GcTSZo1bvYizcTy19s_ECTJCXrpZoLC5tbIuSjslNP6KJuqldaqrp70pdZHSZw&amp;s\"/></div></a></td></tr><tr><td><a href=\"/url?q=https://www.youtube.com/watch%3Fv%3DjkaBPZ5RqYY&amp;sa=U&amp;ved=2ahUKEwickNPDub2AAxXmXvEDHTWCD0AQr4kDegQIARAC&amp;usg=AOvVaw38j8QiCG7ekQKAMJM3_0PS\"><div class=\"jB2rPd\"> <span class=\"qXLe6d x3G5ab\"> <span class=\"fYyStc\" dir=\"ltr\">I Really Enjoyed Myself Out...</span> </span> <span class=\"qXLe6d F9iS2e\"> <span class=\"fYyStc\" dir=\"ltr\">www.youtube.com</span> </span> </div></a></td></tr></table></div></div> </div> </div></td><td align=\"center\" class=\"e3goi\"><div class=\"mnTahd\"> <div> <div class=\"lIMUZd\"><div><table class=\"IkMU6e\"><tr><td><a href=\"/url?q=https://www.cricbuzz.com/profiles/1413/virat-kohli&amp;sa=U&amp;ved=2ahUKEwickNPDub2AAxXmXvEDHTWCD0AQqoUBegQIAhAB&amp;usg=AOvVaw2p0-Ac6suEpa_PMTlQ_4_S\"><div class=\"NZWO1b\"><img alt=\"\" class=\"yWs4tf\" src=\"https://encrypted-tbn0.gstatic.com/images?q=tbn:ANd9GcRex6xKHaq0ZelmDv9UfgKkFGxqAX5v3u0Jw2ygIvOGDtQ5-9n8PFz9hVPyIFw&amp;s\"/></div></a></td></tr><tr><td><a href=\"/url?q=https://www.cricbuzz.com/profiles/1413/virat-kohli&amp;sa=U&amp;ved=2ahUKEwickNPDub2AAxXmXvEDHTWCD0AQr4kDegQIAhAC&amp;usg=AOvVaw1NHdfXNWr7OG9WOwoGxWnR\"><div class=\"jB2rPd\"> <span class=\"qXLe6d x3G5ab\"> <span class=\"fYyStc\" dir=\"ltr\">Virat Kohli Profile - ICC...</span> </span> <span class=\"qXLe6d F9iS2e\"> <span class=\"fYyStc\" dir=\"ltr\">www.cricbuzz.com</span> </span> </div></a></td></tr></table></div></div> </div> </div></td></tr><tr><td align=\"center\" class=\"e3goi\"><div class=\"mnTahd\"> <div> <div class=\"lIMUZd\"><div><table class=\"IkMU6e\"><tr><td><a href=\"/url?q=https://www.icc-cricket.com/news/2781588&amp;sa=U&amp;ved=2ahUKEwickNPDub2AAxXmXvEDHTWCD0AQqoUBegQIABAB&amp;usg=AOvVaw2XHz3whkIhO1cKcXtcPsK_\"><div class=\"NZWO1b\"><img alt=\"\" class=\"yWs4tf\" src=\"https://encrypted-tbn0.gstatic.com/images?q=tbn:ANd9GcTF27J5DbugDvO5PfQZVxpxWaYymNDAlTcQRep6vIwaWkt4MHgXkAnf2dHCUbk&amp;s\"/></div></a></td></tr><tr><td><a href=\"/url?q=https://www.icc-cricket.com/news/2781588&amp;sa=U&amp;ved=2ahUKEwickNPDub2AAxXmXvEDHTWCD0AQr4kDegQIABAC&amp;usg=AOvVaw3NfcGKsaMBt5ilyd4s1o7C\"><div class=\"jB2rPd\"> <span class=\"qXLe6d x3G5ab\"> <span class=\"fYyStc\" dir=\"ltr\">Kohli reveals lack of...</span> </span> <span class=\"qXLe6d F9iS2e\"> <span class=\"fYyStc\" dir=\"ltr\">www.icc-cricket.com</span> </span> </div></a></td></tr></table></div></div> </div> </div></td><td align=\"center\" class=\"e3goi\"><div class=\"mnTahd\"> <div> <div class=\"lIMUZd\"><div><table class=\"IkMU6e\"><tr><td><a href=\"/url?q=https://www.indiatoday.in/sports/cricket/story/virat-kohli-ab-de-villiers-youtube-show-ahmedabad-test-century-impact-australia-2349562-2023-03-21&amp;sa=U&amp;ved=2ahUKEwickNPDub2AAxXmXvEDHTWCD0AQqoUBegQIBxAB&amp;usg=AOvVaw1puv-AE7R-s-uNZdkgMtUb\"><div class=\"NZWO1b\"><img alt=\"\" class=\"yWs4tf\" src=\"https://encrypted-tbn0.gstatic.com/images?q=tbn:ANd9GcRVBC4qXaquOgeeAzlMWkI6cUq1wOT5YtkdsbhDV3fRPv7pqfdfgB9sR_kNFzE&amp;s\"/></div></a></td></tr><tr><td><a href=\"/url?q=https://www.indiatoday.in/sports/cricket/story/virat-kohli-ab-de-villiers-youtube-show-ahmedabad-test-century-impact-australia-2349562-2023-03-21&amp;sa=U&amp;ved=2ahUKEwickNPDub2AAxXmXvEDHTWCD0AQr4kDegQIBxAC&amp;usg=AOvVaw3WgxC8pMV8BOU5EuCOwnIT\"><div class=\"jB2rPd\"> <span class=\"qXLe6d x3G5ab\"> <span class=\"fYyStc\" dir=\"ltr\">Virat Kohli opens up on...</span> </span> <span class=\"qXLe6d F9iS2e\"> <span class=\"fYyStc\" dir=\"ltr\">www.indiatoday.in</span> </span> </div></a></td></tr></table></div></div> </div> </div></td><td align=\"center\" class=\"e3goi\"><div class=\"mnTahd\"> <div> <div class=\"lIMUZd\"><div><table class=\"IkMU6e\"><tr><td><a href=\"/url?q=https://twitter.com/imVkohli&amp;sa=U&amp;ved=2ahUKEwickNPDub2AAxXmXvEDHTWCD0AQqoUBegQIBRAB&amp;usg=AOvVaw1phxxA3MGha3Nro-dO0l1J\"><div class=\"NZWO1b\"><img alt=\"\" class=\"yWs4tf\" src=\"https://encrypted-tbn0.gstatic.com/images?q=tbn:ANd9GcQfMW-2wQ7UzQ_vRtuHQElGdbf4_l__OUek8optzH9g9RcwJx8LtpoeOtSBag&amp;s\"/></div></a></td></tr><tr><td><a href=\"/url?q=https://twitter.com/imVkohli&amp;sa=U&amp;ved=2ahUKEwickNPDub2AAxXmXvEDHTWCD0AQr4kDegQIBRAC&amp;usg=AOvVaw3e7vkY5ikHMVmPGPI5WrQZ\"><div class=\"jB2rPd\"> <span class=\"qXLe6d x3G5ab\"> <span class=\"fYyStc\" dir=\"ltr\">Virat Kohli (@imVkohli) /...</span> </span> <span class=\"qXLe6d F9iS2e\"> <span class=\"fYyStc\" dir=\"ltr\">twitter.com</span> </span> </div></a></td></tr></table></div></div> </div> </div></td><td align=\"center\" class=\"e3goi\"><div class=\"mnTahd\"> <div> <div class=\"lIMUZd\"><div><table class=\"IkMU6e\"><tr><td><a href=\"/url?q=https://www.arabnews.com/node/2186516/sport&amp;sa=U&amp;ved=2ahUKEwickNPDub2AAxXmXvEDHTWCD0AQqoUBegQIBBAB&amp;usg=AOvVaw1R5RZwqn0NrDLOpzCpB2gQ\"><div class=\"NZWO1b\"><img alt=\"\" class=\"yWs4tf\" src=\"https://encrypted-tbn0.gstatic.com/images?q=tbn:ANd9GcTOJF2ltnDq_LeTD-kZ3ZAM6scEo793_n4WBUEpkeOPMC4mFOknw-bChiVmJw&amp;s\"/></div></a></td></tr><tr><td><a href=\"/url?q=https://www.arabnews.com/node/2186516/sport&amp;sa=U&amp;ved=2ahUKEwickNPDub2AAxXmXvEDHTWCD0AQr4kDegQIBBAC&amp;usg=AOvVaw1JfVaR3MtxlfzOkVhif0t3\"><div class=\"jB2rPd\"> <span class=\"qXLe6d x3G5ab\"> <span class=\"fYyStc\" dir=\"ltr\">Virat Kohli propels India...</span> </span> <span class=\"qXLe6d F9iS2e\"> <span class=\"fYyStc\" dir=\"ltr\">www.arabnews.com</span> </span> </div></a></td></tr></table></div></div> </div> </div></td></tr></table></div><table class=\"uZgmoc\"><tbody><td><a class=\"frGj1b\" href=\"/search?q=virat+kohli&amp;biw=767&amp;bih=736&amp;ie=UTF-8&amp;tbm=isch&amp;ei=XgXKZJzpPOa9xc8PtYS-gAQ&amp;start=20&amp;sa=N\">التالية &gt;</a></td></tbody></table><br/><div class=\"TuS8Ad\" data-ved=\"0ahUKEwickNPDub2AAxXmXvEDHTWCD0AQpyoISQ\"><style>.VYM29{font-weight:bold}</style><div align=\"center\" class=\"HddGcc\"><span class=\"VYM29\">قرطبة، الخبر</span><span> - </span><span dir=\"rtl\">من عنوان IP</span><span> - </span><a href=\"/url?q=https://support.google.com/websearch%3Fp%3Dws_settings_location%26hl%3Dar-SA&amp;sa=U&amp;ved=0ahUKEwickNPDub2AAxXmXvEDHTWCD0AQty4ISg&amp;usg=AOvVaw0Fr_Dl-jBQqH5rg_4qNMqD\">مزيد من المعلومات</a></div><div align=\"center\"><a class=\"rEM8G\" href=\"/url?q=https://accounts.google.com/ServiceLogin%3Fcontinue%3Dhttps://www.google.com/search%253Fq%253Dvirat%252Bkholi%2526tbm%253Disch%2526sxsrf%253DAB5stBgBDcgOTZB3uBQj3oGMwytO-R_M5w:1690888864538%2526source%253Dhp%2526biw%253D767%2526bih%253D736%2526ei%253DoOrIZJGNHpCbkdUPoPGwiAs%2526iflsig%253DAD69kcEAAAAAZMj4sILKv-Rek0QPhJdnJvII7_EYlWma%2526ved%253D0ahUKEwiR3f3wq7uAAxWQTaQEHaA4DLEQ4dUDCAc%2526uact%253D5%2526oq%253Delon%252Bmusk%2526gs_lp%253DEgNpbWciCWVsb24gbXVzazIEECMYJzIIEAAYgAQYsQMyCxAAGIAEGLEDGIMBMgUQABiABDIFEAAYgAQyBRAAGIAEMgUQABiABDIFEAAYgAQyBRAAGIAEMgUQABiABEjcMVD9IFj_LnABeACQAQCYAf0BoAGtDqoBBTAuNi4zuAEDyAEA-AEBigILZ3dzLXdpei1pbWeoAgrCAgcQIxjqAhgnwgIIEAAYsQMYgwE%2526sclient%253Dimg%26hl%3Dar&amp;sa=U&amp;ved=0ahUKEwickNPDub2AAxXmXvEDHTWCD0AQxs8CCEs&amp;usg=AOvVaw0O-9KFpc27KUieuk2Hv-o_\">تسجيل الدخول</a></div><div><table class=\"bookcf\"><tbody class=\"InWNIe\"><tr><td><a class=\"rEM8G\" href=\"https://www.google.com/preferences?hl=ar&amp;sa=X&amp;ved=0ahUKEwickNPDub2AAxXmXvEDHTWCD0AQv5YECEw\">الإعدادات</a></td><td><a class=\"rEM8G\" href=\"https://www.google.com/intl/ar_sa/policies/privacy/\">الخصوصية</a></td><td><a class=\"rEM8G\" href=\"https://www.google.com/intl/ar_sa/policies/terms/\">البنود</a></td></tr></tbody></table></div></div><div> </div></body></html>"
      ]
     },
     "execution_count": 29,
     "metadata": {},
     "output_type": "execute_result"
    }
   ],
   "source": [
    "soup"
   ]
  },
  {
   "cell_type": "code",
   "execution_count": 30,
   "id": "8ca19338-707e-49d8-b15a-0258e17ece0c",
   "metadata": {},
   "outputs": [
    {
     "data": {
      "text/plain": [
       "[<img alt=\"Google\" class=\"kgJEQe\" src=\"/images/branding/searchlogo/1x/googlelogo_desk_heirloom_color_150x55dp.gif\"/>,\n",
       " <img alt=\"\" class=\"yWs4tf\" src=\"https://encrypted-tbn0.gstatic.com/images?q=tbn:ANd9GcSApOD8cC7Jh33c0VqbcFkcmx0og9wr1DYsD50a8Tp3p-0I33M_SuuLXA0Kizk&amp;s\"/>,\n",
       " <img alt=\"\" class=\"yWs4tf\" src=\"https://encrypted-tbn0.gstatic.com/images?q=tbn:ANd9GcSK5yCaJ2Z89H3mjG2pVjY9N4R5oiPNQPgSk0yYX4Wiv3mMSccD2ttNoKKUgg&amp;s\"/>,\n",
       " <img alt=\"\" class=\"yWs4tf\" src=\"https://encrypted-tbn0.gstatic.com/images?q=tbn:ANd9GcRgzdUeq9HxpXKazE9Sta7mayYY92h-bx-kM3-yf1fwJS_Z1MwlW4N_HNZKa9U&amp;s\"/>,\n",
       " <img alt=\"\" class=\"yWs4tf\" src=\"https://encrypted-tbn0.gstatic.com/images?q=tbn:ANd9GcQXhRozPeN_ofFzgMvQcHZvcplv3EpOrLtmrSnBG88kwoJo8RFn0Ev3aLykTYA&amp;s\"/>,\n",
       " <img alt=\"\" class=\"yWs4tf\" src=\"https://encrypted-tbn0.gstatic.com/images?q=tbn:ANd9GcQJ13sUKet8ElnI74O4r8mkVpE9vvrZAAaxgOi_NEOPsGWp1c_noZppD1DRsUU&amp;s\"/>,\n",
       " <img alt=\"\" class=\"yWs4tf\" src=\"https://encrypted-tbn0.gstatic.com/images?q=tbn:ANd9GcRec8fL8OuoYTKa4PYUISRU9hyGvU93SriCzmW0KdVDRHfSTS4bjneJvyI52D0&amp;s\"/>,\n",
       " <img alt=\"\" class=\"yWs4tf\" src=\"https://encrypted-tbn0.gstatic.com/images?q=tbn:ANd9GcT31MU-l5iezqCLOPE2jeiBB0geQsn8njIF0T290gdxybDBKMJOC5V1jM9QAg&amp;s\"/>,\n",
       " <img alt=\"\" class=\"yWs4tf\" src=\"https://encrypted-tbn0.gstatic.com/images?q=tbn:ANd9GcTMigjDIZoL9TzU8RPGJVsocOv6Sz5y1bl3pY4vqxNrs6-Jwzo8Kw0ihdIHbA&amp;s\"/>,\n",
       " <img alt=\"\" class=\"yWs4tf\" src=\"https://encrypted-tbn0.gstatic.com/images?q=tbn:ANd9GcRLqGxMbCeVkZIDV3mQfmlpSxuBcW4YTlZBp78_utfaZ7ACU-1GI0fyT3cQVA&amp;s\"/>,\n",
       " <img alt=\"\" class=\"yWs4tf\" src=\"https://encrypted-tbn0.gstatic.com/images?q=tbn:ANd9GcRHlQzK8FbwK4m2XdRphH9iGnQ03FnUFAK76rVzb2YF6De4cXrK8Jt5j9RZq9k&amp;s\"/>,\n",
       " <img alt=\"\" class=\"yWs4tf\" src=\"https://encrypted-tbn0.gstatic.com/images?q=tbn:ANd9GcRC7PXGvWDQRZyszF12W3RoXjr_nZ0Ox_CnclTzEmkLtB72VCOpuxZthQ2ib14&amp;s\"/>,\n",
       " <img alt=\"\" class=\"yWs4tf\" src=\"https://encrypted-tbn0.gstatic.com/images?q=tbn:ANd9GcT8x89pLXeMNlm4-Nrjk8kFn2NfKoBA8NLYSyJKnbM6EG-2EewQgiKttVsWrEE&amp;s\"/>,\n",
       " <img alt=\"\" class=\"yWs4tf\" src=\"https://encrypted-tbn0.gstatic.com/images?q=tbn:ANd9GcTm9WFJuwtEGdCS81c0gSVvF0DTLkE0WZQMntqPjyHiDV6Fe0zPFqkcabcZ7Q&amp;s\"/>,\n",
       " <img alt=\"\" class=\"yWs4tf\" src=\"https://encrypted-tbn0.gstatic.com/images?q=tbn:ANd9GcRmKb8IQ-xIUjPuCLSmVUxPfwIUgdHh-cUn0nbOnpuFtSRA9QMHEcZ8GGSW6R4&amp;s\"/>,\n",
       " <img alt=\"\" class=\"yWs4tf\" src=\"https://encrypted-tbn0.gstatic.com/images?q=tbn:ANd9GcTSZo1bvYizcTy19s_ECTJCXrpZoLC5tbIuSjslNP6KJuqldaqrp70pdZHSZw&amp;s\"/>,\n",
       " <img alt=\"\" class=\"yWs4tf\" src=\"https://encrypted-tbn0.gstatic.com/images?q=tbn:ANd9GcRex6xKHaq0ZelmDv9UfgKkFGxqAX5v3u0Jw2ygIvOGDtQ5-9n8PFz9hVPyIFw&amp;s\"/>,\n",
       " <img alt=\"\" class=\"yWs4tf\" src=\"https://encrypted-tbn0.gstatic.com/images?q=tbn:ANd9GcTF27J5DbugDvO5PfQZVxpxWaYymNDAlTcQRep6vIwaWkt4MHgXkAnf2dHCUbk&amp;s\"/>,\n",
       " <img alt=\"\" class=\"yWs4tf\" src=\"https://encrypted-tbn0.gstatic.com/images?q=tbn:ANd9GcRVBC4qXaquOgeeAzlMWkI6cUq1wOT5YtkdsbhDV3fRPv7pqfdfgB9sR_kNFzE&amp;s\"/>,\n",
       " <img alt=\"\" class=\"yWs4tf\" src=\"https://encrypted-tbn0.gstatic.com/images?q=tbn:ANd9GcQfMW-2wQ7UzQ_vRtuHQElGdbf4_l__OUek8optzH9g9RcwJx8LtpoeOtSBag&amp;s\"/>,\n",
       " <img alt=\"\" class=\"yWs4tf\" src=\"https://encrypted-tbn0.gstatic.com/images?q=tbn:ANd9GcTOJF2ltnDq_LeTD-kZ3ZAM6scEo793_n4WBUEpkeOPMC4mFOknw-bChiVmJw&amp;s\"/>]"
      ]
     },
     "execution_count": 30,
     "metadata": {},
     "output_type": "execute_result"
    }
   ],
   "source": [
    "soup.find_all(\"img\")# img is the image tab from above in html line"
   ]
  },
  {
   "cell_type": "code",
   "execution_count": 31,
   "id": "0d8168b1-fc7c-4b43-9b6d-1919fba34a4a",
   "metadata": {},
   "outputs": [],
   "source": [
    "#now collect all the images in our directory as list\n",
    "image_tags=soup.find_all(\"img\")\n"
   ]
  },
  {
   "cell_type": "code",
   "execution_count": 32,
   "id": "18b2e815-7973-4a48-b422-d69b0c763581",
   "metadata": {},
   "outputs": [
    {
     "data": {
      "text/plain": [
       "[<img alt=\"Google\" class=\"kgJEQe\" src=\"/images/branding/searchlogo/1x/googlelogo_desk_heirloom_color_150x55dp.gif\"/>,\n",
       " <img alt=\"\" class=\"yWs4tf\" src=\"https://encrypted-tbn0.gstatic.com/images?q=tbn:ANd9GcSApOD8cC7Jh33c0VqbcFkcmx0og9wr1DYsD50a8Tp3p-0I33M_SuuLXA0Kizk&amp;s\"/>,\n",
       " <img alt=\"\" class=\"yWs4tf\" src=\"https://encrypted-tbn0.gstatic.com/images?q=tbn:ANd9GcSK5yCaJ2Z89H3mjG2pVjY9N4R5oiPNQPgSk0yYX4Wiv3mMSccD2ttNoKKUgg&amp;s\"/>,\n",
       " <img alt=\"\" class=\"yWs4tf\" src=\"https://encrypted-tbn0.gstatic.com/images?q=tbn:ANd9GcRgzdUeq9HxpXKazE9Sta7mayYY92h-bx-kM3-yf1fwJS_Z1MwlW4N_HNZKa9U&amp;s\"/>,\n",
       " <img alt=\"\" class=\"yWs4tf\" src=\"https://encrypted-tbn0.gstatic.com/images?q=tbn:ANd9GcQXhRozPeN_ofFzgMvQcHZvcplv3EpOrLtmrSnBG88kwoJo8RFn0Ev3aLykTYA&amp;s\"/>,\n",
       " <img alt=\"\" class=\"yWs4tf\" src=\"https://encrypted-tbn0.gstatic.com/images?q=tbn:ANd9GcQJ13sUKet8ElnI74O4r8mkVpE9vvrZAAaxgOi_NEOPsGWp1c_noZppD1DRsUU&amp;s\"/>,\n",
       " <img alt=\"\" class=\"yWs4tf\" src=\"https://encrypted-tbn0.gstatic.com/images?q=tbn:ANd9GcRec8fL8OuoYTKa4PYUISRU9hyGvU93SriCzmW0KdVDRHfSTS4bjneJvyI52D0&amp;s\"/>,\n",
       " <img alt=\"\" class=\"yWs4tf\" src=\"https://encrypted-tbn0.gstatic.com/images?q=tbn:ANd9GcT31MU-l5iezqCLOPE2jeiBB0geQsn8njIF0T290gdxybDBKMJOC5V1jM9QAg&amp;s\"/>,\n",
       " <img alt=\"\" class=\"yWs4tf\" src=\"https://encrypted-tbn0.gstatic.com/images?q=tbn:ANd9GcTMigjDIZoL9TzU8RPGJVsocOv6Sz5y1bl3pY4vqxNrs6-Jwzo8Kw0ihdIHbA&amp;s\"/>,\n",
       " <img alt=\"\" class=\"yWs4tf\" src=\"https://encrypted-tbn0.gstatic.com/images?q=tbn:ANd9GcRLqGxMbCeVkZIDV3mQfmlpSxuBcW4YTlZBp78_utfaZ7ACU-1GI0fyT3cQVA&amp;s\"/>,\n",
       " <img alt=\"\" class=\"yWs4tf\" src=\"https://encrypted-tbn0.gstatic.com/images?q=tbn:ANd9GcRHlQzK8FbwK4m2XdRphH9iGnQ03FnUFAK76rVzb2YF6De4cXrK8Jt5j9RZq9k&amp;s\"/>,\n",
       " <img alt=\"\" class=\"yWs4tf\" src=\"https://encrypted-tbn0.gstatic.com/images?q=tbn:ANd9GcRC7PXGvWDQRZyszF12W3RoXjr_nZ0Ox_CnclTzEmkLtB72VCOpuxZthQ2ib14&amp;s\"/>,\n",
       " <img alt=\"\" class=\"yWs4tf\" src=\"https://encrypted-tbn0.gstatic.com/images?q=tbn:ANd9GcT8x89pLXeMNlm4-Nrjk8kFn2NfKoBA8NLYSyJKnbM6EG-2EewQgiKttVsWrEE&amp;s\"/>,\n",
       " <img alt=\"\" class=\"yWs4tf\" src=\"https://encrypted-tbn0.gstatic.com/images?q=tbn:ANd9GcTm9WFJuwtEGdCS81c0gSVvF0DTLkE0WZQMntqPjyHiDV6Fe0zPFqkcabcZ7Q&amp;s\"/>,\n",
       " <img alt=\"\" class=\"yWs4tf\" src=\"https://encrypted-tbn0.gstatic.com/images?q=tbn:ANd9GcRmKb8IQ-xIUjPuCLSmVUxPfwIUgdHh-cUn0nbOnpuFtSRA9QMHEcZ8GGSW6R4&amp;s\"/>,\n",
       " <img alt=\"\" class=\"yWs4tf\" src=\"https://encrypted-tbn0.gstatic.com/images?q=tbn:ANd9GcTSZo1bvYizcTy19s_ECTJCXrpZoLC5tbIuSjslNP6KJuqldaqrp70pdZHSZw&amp;s\"/>,\n",
       " <img alt=\"\" class=\"yWs4tf\" src=\"https://encrypted-tbn0.gstatic.com/images?q=tbn:ANd9GcRex6xKHaq0ZelmDv9UfgKkFGxqAX5v3u0Jw2ygIvOGDtQ5-9n8PFz9hVPyIFw&amp;s\"/>,\n",
       " <img alt=\"\" class=\"yWs4tf\" src=\"https://encrypted-tbn0.gstatic.com/images?q=tbn:ANd9GcTF27J5DbugDvO5PfQZVxpxWaYymNDAlTcQRep6vIwaWkt4MHgXkAnf2dHCUbk&amp;s\"/>,\n",
       " <img alt=\"\" class=\"yWs4tf\" src=\"https://encrypted-tbn0.gstatic.com/images?q=tbn:ANd9GcRVBC4qXaquOgeeAzlMWkI6cUq1wOT5YtkdsbhDV3fRPv7pqfdfgB9sR_kNFzE&amp;s\"/>,\n",
       " <img alt=\"\" class=\"yWs4tf\" src=\"https://encrypted-tbn0.gstatic.com/images?q=tbn:ANd9GcQfMW-2wQ7UzQ_vRtuHQElGdbf4_l__OUek8optzH9g9RcwJx8LtpoeOtSBag&amp;s\"/>,\n",
       " <img alt=\"\" class=\"yWs4tf\" src=\"https://encrypted-tbn0.gstatic.com/images?q=tbn:ANd9GcTOJF2ltnDq_LeTD-kZ3ZAM6scEo793_n4WBUEpkeOPMC4mFOknw-bChiVmJw&amp;s\"/>]"
      ]
     },
     "execution_count": 32,
     "metadata": {},
     "output_type": "execute_result"
    }
   ],
   "source": [
    "image_tags#if u see the first image its not clear so lets delete it"
   ]
  },
  {
   "cell_type": "code",
   "execution_count": 33,
   "id": "9036f3f2-5fff-4fcc-ad28-6cd28ba1ba7d",
   "metadata": {},
   "outputs": [],
   "source": [
    "del image_tags[0] #deleting the first image as it is not correct image"
   ]
  },
  {
   "cell_type": "code",
   "execution_count": 34,
   "id": "6355f7fd-7e71-4829-b8ee-1d6aebd8b75a",
   "metadata": {},
   "outputs": [
    {
     "data": {
      "text/plain": [
       "[<img alt=\"\" class=\"yWs4tf\" src=\"https://encrypted-tbn0.gstatic.com/images?q=tbn:ANd9GcSApOD8cC7Jh33c0VqbcFkcmx0og9wr1DYsD50a8Tp3p-0I33M_SuuLXA0Kizk&amp;s\"/>,\n",
       " <img alt=\"\" class=\"yWs4tf\" src=\"https://encrypted-tbn0.gstatic.com/images?q=tbn:ANd9GcSK5yCaJ2Z89H3mjG2pVjY9N4R5oiPNQPgSk0yYX4Wiv3mMSccD2ttNoKKUgg&amp;s\"/>,\n",
       " <img alt=\"\" class=\"yWs4tf\" src=\"https://encrypted-tbn0.gstatic.com/images?q=tbn:ANd9GcRgzdUeq9HxpXKazE9Sta7mayYY92h-bx-kM3-yf1fwJS_Z1MwlW4N_HNZKa9U&amp;s\"/>,\n",
       " <img alt=\"\" class=\"yWs4tf\" src=\"https://encrypted-tbn0.gstatic.com/images?q=tbn:ANd9GcQXhRozPeN_ofFzgMvQcHZvcplv3EpOrLtmrSnBG88kwoJo8RFn0Ev3aLykTYA&amp;s\"/>,\n",
       " <img alt=\"\" class=\"yWs4tf\" src=\"https://encrypted-tbn0.gstatic.com/images?q=tbn:ANd9GcQJ13sUKet8ElnI74O4r8mkVpE9vvrZAAaxgOi_NEOPsGWp1c_noZppD1DRsUU&amp;s\"/>,\n",
       " <img alt=\"\" class=\"yWs4tf\" src=\"https://encrypted-tbn0.gstatic.com/images?q=tbn:ANd9GcRec8fL8OuoYTKa4PYUISRU9hyGvU93SriCzmW0KdVDRHfSTS4bjneJvyI52D0&amp;s\"/>,\n",
       " <img alt=\"\" class=\"yWs4tf\" src=\"https://encrypted-tbn0.gstatic.com/images?q=tbn:ANd9GcT31MU-l5iezqCLOPE2jeiBB0geQsn8njIF0T290gdxybDBKMJOC5V1jM9QAg&amp;s\"/>,\n",
       " <img alt=\"\" class=\"yWs4tf\" src=\"https://encrypted-tbn0.gstatic.com/images?q=tbn:ANd9GcTMigjDIZoL9TzU8RPGJVsocOv6Sz5y1bl3pY4vqxNrs6-Jwzo8Kw0ihdIHbA&amp;s\"/>,\n",
       " <img alt=\"\" class=\"yWs4tf\" src=\"https://encrypted-tbn0.gstatic.com/images?q=tbn:ANd9GcRLqGxMbCeVkZIDV3mQfmlpSxuBcW4YTlZBp78_utfaZ7ACU-1GI0fyT3cQVA&amp;s\"/>,\n",
       " <img alt=\"\" class=\"yWs4tf\" src=\"https://encrypted-tbn0.gstatic.com/images?q=tbn:ANd9GcRHlQzK8FbwK4m2XdRphH9iGnQ03FnUFAK76rVzb2YF6De4cXrK8Jt5j9RZq9k&amp;s\"/>,\n",
       " <img alt=\"\" class=\"yWs4tf\" src=\"https://encrypted-tbn0.gstatic.com/images?q=tbn:ANd9GcRC7PXGvWDQRZyszF12W3RoXjr_nZ0Ox_CnclTzEmkLtB72VCOpuxZthQ2ib14&amp;s\"/>,\n",
       " <img alt=\"\" class=\"yWs4tf\" src=\"https://encrypted-tbn0.gstatic.com/images?q=tbn:ANd9GcT8x89pLXeMNlm4-Nrjk8kFn2NfKoBA8NLYSyJKnbM6EG-2EewQgiKttVsWrEE&amp;s\"/>,\n",
       " <img alt=\"\" class=\"yWs4tf\" src=\"https://encrypted-tbn0.gstatic.com/images?q=tbn:ANd9GcTm9WFJuwtEGdCS81c0gSVvF0DTLkE0WZQMntqPjyHiDV6Fe0zPFqkcabcZ7Q&amp;s\"/>,\n",
       " <img alt=\"\" class=\"yWs4tf\" src=\"https://encrypted-tbn0.gstatic.com/images?q=tbn:ANd9GcRmKb8IQ-xIUjPuCLSmVUxPfwIUgdHh-cUn0nbOnpuFtSRA9QMHEcZ8GGSW6R4&amp;s\"/>,\n",
       " <img alt=\"\" class=\"yWs4tf\" src=\"https://encrypted-tbn0.gstatic.com/images?q=tbn:ANd9GcTSZo1bvYizcTy19s_ECTJCXrpZoLC5tbIuSjslNP6KJuqldaqrp70pdZHSZw&amp;s\"/>,\n",
       " <img alt=\"\" class=\"yWs4tf\" src=\"https://encrypted-tbn0.gstatic.com/images?q=tbn:ANd9GcRex6xKHaq0ZelmDv9UfgKkFGxqAX5v3u0Jw2ygIvOGDtQ5-9n8PFz9hVPyIFw&amp;s\"/>,\n",
       " <img alt=\"\" class=\"yWs4tf\" src=\"https://encrypted-tbn0.gstatic.com/images?q=tbn:ANd9GcTF27J5DbugDvO5PfQZVxpxWaYymNDAlTcQRep6vIwaWkt4MHgXkAnf2dHCUbk&amp;s\"/>,\n",
       " <img alt=\"\" class=\"yWs4tf\" src=\"https://encrypted-tbn0.gstatic.com/images?q=tbn:ANd9GcRVBC4qXaquOgeeAzlMWkI6cUq1wOT5YtkdsbhDV3fRPv7pqfdfgB9sR_kNFzE&amp;s\"/>,\n",
       " <img alt=\"\" class=\"yWs4tf\" src=\"https://encrypted-tbn0.gstatic.com/images?q=tbn:ANd9GcQfMW-2wQ7UzQ_vRtuHQElGdbf4_l__OUek8optzH9g9RcwJx8LtpoeOtSBag&amp;s\"/>,\n",
       " <img alt=\"\" class=\"yWs4tf\" src=\"https://encrypted-tbn0.gstatic.com/images?q=tbn:ANd9GcTOJF2ltnDq_LeTD-kZ3ZAM6scEo793_n4WBUEpkeOPMC4mFOknw-bChiVmJw&amp;s\"/>]"
      ]
     },
     "execution_count": 34,
     "metadata": {},
     "output_type": "execute_result"
    }
   ],
   "source": [
    "image_tags"
   ]
  },
  {
   "cell_type": "code",
   "execution_count": 35,
   "id": "ebdc78c3-8962-45ca-a8bf-26e35645fd1e",
   "metadata": {},
   "outputs": [
    {
     "data": {
      "text/plain": [
       "20"
      ]
     },
     "execution_count": 35,
     "metadata": {},
     "output_type": "execute_result"
    }
   ],
   "source": [
    "len(image_tags)"
   ]
  },
  {
   "cell_type": "code",
   "execution_count": 36,
   "id": "8a2256ab-cdb2-4325-b44e-dd588b127af0",
   "metadata": {},
   "outputs": [
    {
     "name": "stdout",
     "output_type": "stream",
     "text": [
      "https://encrypted-tbn0.gstatic.com/images?q=tbn:ANd9GcSApOD8cC7Jh33c0VqbcFkcmx0og9wr1DYsD50a8Tp3p-0I33M_SuuLXA0Kizk&s\n",
      "https://encrypted-tbn0.gstatic.com/images?q=tbn:ANd9GcSK5yCaJ2Z89H3mjG2pVjY9N4R5oiPNQPgSk0yYX4Wiv3mMSccD2ttNoKKUgg&s\n",
      "https://encrypted-tbn0.gstatic.com/images?q=tbn:ANd9GcRgzdUeq9HxpXKazE9Sta7mayYY92h-bx-kM3-yf1fwJS_Z1MwlW4N_HNZKa9U&s\n",
      "https://encrypted-tbn0.gstatic.com/images?q=tbn:ANd9GcQXhRozPeN_ofFzgMvQcHZvcplv3EpOrLtmrSnBG88kwoJo8RFn0Ev3aLykTYA&s\n",
      "https://encrypted-tbn0.gstatic.com/images?q=tbn:ANd9GcQJ13sUKet8ElnI74O4r8mkVpE9vvrZAAaxgOi_NEOPsGWp1c_noZppD1DRsUU&s\n",
      "https://encrypted-tbn0.gstatic.com/images?q=tbn:ANd9GcRec8fL8OuoYTKa4PYUISRU9hyGvU93SriCzmW0KdVDRHfSTS4bjneJvyI52D0&s\n",
      "https://encrypted-tbn0.gstatic.com/images?q=tbn:ANd9GcT31MU-l5iezqCLOPE2jeiBB0geQsn8njIF0T290gdxybDBKMJOC5V1jM9QAg&s\n",
      "https://encrypted-tbn0.gstatic.com/images?q=tbn:ANd9GcTMigjDIZoL9TzU8RPGJVsocOv6Sz5y1bl3pY4vqxNrs6-Jwzo8Kw0ihdIHbA&s\n",
      "https://encrypted-tbn0.gstatic.com/images?q=tbn:ANd9GcRLqGxMbCeVkZIDV3mQfmlpSxuBcW4YTlZBp78_utfaZ7ACU-1GI0fyT3cQVA&s\n",
      "https://encrypted-tbn0.gstatic.com/images?q=tbn:ANd9GcRHlQzK8FbwK4m2XdRphH9iGnQ03FnUFAK76rVzb2YF6De4cXrK8Jt5j9RZq9k&s\n",
      "https://encrypted-tbn0.gstatic.com/images?q=tbn:ANd9GcRC7PXGvWDQRZyszF12W3RoXjr_nZ0Ox_CnclTzEmkLtB72VCOpuxZthQ2ib14&s\n",
      "https://encrypted-tbn0.gstatic.com/images?q=tbn:ANd9GcT8x89pLXeMNlm4-Nrjk8kFn2NfKoBA8NLYSyJKnbM6EG-2EewQgiKttVsWrEE&s\n",
      "https://encrypted-tbn0.gstatic.com/images?q=tbn:ANd9GcTm9WFJuwtEGdCS81c0gSVvF0DTLkE0WZQMntqPjyHiDV6Fe0zPFqkcabcZ7Q&s\n",
      "https://encrypted-tbn0.gstatic.com/images?q=tbn:ANd9GcRmKb8IQ-xIUjPuCLSmVUxPfwIUgdHh-cUn0nbOnpuFtSRA9QMHEcZ8GGSW6R4&s\n",
      "https://encrypted-tbn0.gstatic.com/images?q=tbn:ANd9GcTSZo1bvYizcTy19s_ECTJCXrpZoLC5tbIuSjslNP6KJuqldaqrp70pdZHSZw&s\n",
      "https://encrypted-tbn0.gstatic.com/images?q=tbn:ANd9GcRex6xKHaq0ZelmDv9UfgKkFGxqAX5v3u0Jw2ygIvOGDtQ5-9n8PFz9hVPyIFw&s\n",
      "https://encrypted-tbn0.gstatic.com/images?q=tbn:ANd9GcTF27J5DbugDvO5PfQZVxpxWaYymNDAlTcQRep6vIwaWkt4MHgXkAnf2dHCUbk&s\n",
      "https://encrypted-tbn0.gstatic.com/images?q=tbn:ANd9GcRVBC4qXaquOgeeAzlMWkI6cUq1wOT5YtkdsbhDV3fRPv7pqfdfgB9sR_kNFzE&s\n",
      "https://encrypted-tbn0.gstatic.com/images?q=tbn:ANd9GcQfMW-2wQ7UzQ_vRtuHQElGdbf4_l__OUek8optzH9g9RcwJx8LtpoeOtSBag&s\n",
      "https://encrypted-tbn0.gstatic.com/images?q=tbn:ANd9GcTOJF2ltnDq_LeTD-kZ3ZAM6scEo793_n4WBUEpkeOPMC4mFOknw-bChiVmJw&s\n"
     ]
    }
   ],
   "source": [
    "#i am going to fetch the src word in the  file from above\n",
    "\n",
    "for i in image_tags:\n",
    "    print(i['src'])"
   ]
  },
  {
   "cell_type": "code",
   "execution_count": 37,
   "id": "b364f13b-5366-44c6-a502-12243a032196",
   "metadata": {},
   "outputs": [
    {
     "data": {
      "text/plain": [
       "b'\\xff\\xd8\\xff\\xe0\\x00\\x10JFIF\\x00\\x01\\x01\\x00\\x00\\x01\\x00\\x01\\x00\\x00\\xff\\xdb\\x00\\x84\\x00\\t\\x06\\x07\\x08\\x07\\x06\\t\\x08\\x07\\x08\\n\\n\\t\\x0b\\r\\x16\\x0f\\r\\x0c\\x0c\\r\\x1b\\x14\\x15\\x10\\x16 \\x1d\"\" \\x1d\\x1f\\x1f$(4,$&1\\'\\x1f\\x1f-=-157:::#+?D?8C49:7\\x01\\n\\n\\n\\r\\x0c\\r\\x1a\\x0f\\x0f\\x1a7%\\x1f%77777777777777777777777777777777777777777777777777\\xff\\xc0\\x00\\x11\\x08\\x00\\x8c\\x00j\\x03\\x01\"\\x00\\x02\\x11\\x01\\x03\\x11\\x01\\xff\\xc4\\x00\\x1c\\x00\\x00\\x01\\x04\\x03\\x01\\x00\\x00\\x00\\x00\\x00\\x00\\x00\\x00\\x00\\x00\\x00\\x02\\x03\\x04\\x06\\x07\\x00\\x01\\x08\\x05\\xff\\xc4\\x00@\\x10\\x00\\x01\\x03\\x03\\x02\\x02\\x07\\x05\\x03\\t\\t\\x01\\x00\\x00\\x00\\x00\\x01\\x00\\x02\\x03\\x04\\x05\\x11\\x12!\\x061\\x07\\x13\"AQaq2\\x81\\x91\\xa1\\xb1\\x14#\\xc1\\x153BRr\\x82\\xa2\\xc2\\xd1&4DTbds\\x92\\xb3$\\xff\\xc4\\x00\\x19\\x01\\x00\\x03\\x01\\x01\\x01\\x00\\x00\\x00\\x00\\x00\\x00\\x00\\x00\\x00\\x00\\x00\\x00\\x01\\x02\\x03\\x04\\x05\\xff\\xc4\\x00\\x1e\\x11\\x01\\x01\\x00\\x02\\x03\\x01\\x00\\x03\\x00\\x00\\x00\\x00\\x00\\x00\\x00\\x00\\x00\\x01\\x02\\x11\\x03!1\\x12\\x04\"2\\xff\\xda\\x00\\x0c\\x03\\x01\\x00\\x02\\x11\\x03\\x11\\x00?\\x00\\x9b\\xee\\xb7\\xba\\xde\\x16\\xf0\\x90\\x0e\\xe8\\x86Q\\x06\\xe5\\x18`@\\'\\x85\\x98E4\\x91C\\x1b\\xa4\\x95\\xed\\x8d\\x8d\\xdd\\xcey\\xc0\\x1e\\xa5x\\xd7\\x9e(\\xb5\\xd9\\xea#\\xa7\\xab\\x97\\xef\\x1e\\xddgO&\\xb78\\x04\\x9f\\xe8\\x90\\xd3\\xd7\\xc2\\xcc(\\x84\\x9d%\\xd8\"\\x8b\\xacx\\xaawoH\\x0c\\x8b$\\x8f\\x13\\xbe\\x07\\xc7?D\\xf2\\xc9\\xc7V\\x1b\\xcc\\xbdM<\\xf2\\xc398lU\\x11\\xe9.\\xf4\\xe6\\x0f\\xa6r\\x83\\xd2DB\\xd1\\x0bqK\\x1c\\xda\\xba\\xb7\\x02Zp\\xe1\\xde\\x11\\x96\\xa6D\\xb0\\x80\\x84\\xb1jL\\x84\\x02NB\\x94!\\x0e\\x10\\x0eV4-\\xe9F\\xc0\\x10\\x04\\xc6\\xad\\x95\\xb5\\x1b\\xe3\\xaa\\xea\\xdbm\\x86\\xaa\\xa2\\x8a\\xa4B\\xf2\\xcd\\r\"\"\\xe7\\x07\\x1e\\xf0{\\xb1\\xe2QDA\\xb8\\xff\\x00\\x8c[Yp\\x92\\xd7\\x03sH\\xd6i%\\xdbf@\\xe0u\\x11\\xe04\\x8d\\xbc\\xca\\x82\\xd4\\xcc\\xf9c\\xc3\\xa52\\x16\\xf6Zpv\\x1c\\xfe\\t+E\\x15E\\xea\\xe8!/.$\\x97I#\\x8eI\\xc9\\xe6s\\xde\\xae\\xbe\\x19\\xe0{\\\\t\\xd1\\xb6zv\\xc9\\xb6Iw2\\xb2\\xcb9\\x8do\\x87\\x1f\\xd4S\\xd4\\xd5\\x12\\xc6\\xce\\xaf\\xec\\xcc{\\x9b\\x82]\\x8fii\\xd5\\xb2B\\xe0\\xe7S\\xe0\\x83\\xad\\xa7\\x18 \\xae\\x94\\xa3\\xe1\\xdb5+q\\x15\\xba\\x9f\\'\\xc60\\xb5r\\xe1\\xeb=e;\\xe1\\xa8\\xb7S\\xb9\\x8e\\x1b\\xe1\\x80\\x1f\\x8a_k\\xbcqR\\xf0O\\x19\\xb1\\x9522\\xe3>\\x07V\\xc0\\xc78\\xe4\\xb8\\x03\\xcb\\xcfb\\xac{]\\xe2\\x8e\\xeb\\xaf\\xecny\\xd0pu3\\n\\x95\\xe2\\x8b\\x038o\\x89f\\xa6s\\x8b\\xa9\\x8e]\\x03\\xb4\\xe7o\\x05)\\xe8\\xba\\xa9\\xd2\\xdc\\xdd\\x00\\x81\\xe462z\\xd2\\xe0@\\xf2\\xe5\\x90}\\xea\\xe5a\\x96+8\\x84\\x04%\\x8bP8+A\\x12\\x10\\xe9J\\x15\\x9b\\xa6\\x0e\\x03\\x16\\xc3p\\x8c\\xad\\x01\\xbaA\\x81\\xb9H\\\\\\xe8\\xdfYl\\xab\\xa5\\x8c\\x80\\xf9\\xa0|m.\\x19\\x00\\x96\\x90\\x0f\\xc4\\xa7\\xadn\\xc8\\x80\\xc1\\x08\\n#\\xa3\\x8bxk_#\\xdb\\xa6R\\xfd8<\\xc69\\xab\\xa6\\xc7\\x1914\\xb8\\xe0x*\\x9a8_n\\xae\\xb8\\xd3\\x83#[\\x15l\\xda\\xb4s\\xd2\\\\H\\xf9\\x15,\\xa0\\xae\\xac\\xb7\\xd1\\x9a\\xaaas|Q\\xc8\\x1b#*\\x83KH#9i\\x07<\\xbf\\xa2\\xe5\\xcao+]\\xf8\\x7f\\x12,\\x86\\xb7;\\x05\\xb70c\\x0eQ\\xfb\\xeb\\xe5m\\xba\\x03\\x13\\xa5ts\\x01\\xab\\xab\\x93\\xab#>.\\xeeM\\xac\\xb1\\xd4\\x064~O\\xaa\\xa4q\\'$\\xd4\\x89\\x83\\xb1\\xdeO=\\xfb\\xb3\\xf2@\\xf9\\xa8GL\\xd6\\xd9\\x9e\\xc8j:\\xbdp\\x17cX\\xc7d\\xe3\\x91C\\xd0\\x9d\\x14\\x8d\\xa1\\xb8We\\xc2\\x19^\\xd8\\x9a\\xd3\\xe2\\xded|p\\xa4\\xfd#4Oi\\x8a\\x9f\\x99\\x92\\xa66\\x01\\xe3\\x9c\\x84\\xef\\x82m3\\xd9l\\x0c\\xa1\\xaa\\xd1\\xd62W\\x93\\xa7\\xbf\\'?\\x8a\\xd3\\x8e\\xef\\xa6\\x1c\\xb8Y6\\xf6HBBT\\x84\\x0e[9\\xc8\\xb9\\xabZR\\x85\\x0e\\x13\\x07\\x04#kV\\x06\\xa5Z\\xd0\\x80\\xccab\\xda\\xcc  \\x97\\xab{h\\xb8\\xa5\\xd23\\x1akGXG\\x81\\xe4\\xef\\xa2w}1Q\\xd9\\xf00\\x0b\\xb02N\\xc1\\'\\xd2\\x0b%\\x8e\\xb6\\xd9Q\\x19-\\x01\\xb27=\\xd9\\xcbN>\\xab\\xca\\xbc\\xdc\\xa9]\\x1c\\x14\\x97`\\xe6\\xb2Vl4\\xe49rg?j\\xf4xl\\xb8E\\x83GQO\\xf6Jx\\x9e\\xe8\\xa5\\xd5\\x08:2\\tp\\xf4\\xefN\\xe10\\x8ao\\xfem\\x0c\\x18\\xfd\\x11\\x80\\xa2\\xf6J\\x8bE\\xba\\x867GMW#X\\x06\\x97\\x18\\xfa\\xc74\\xf9nO\\xc1z\\xd0\\x08\\xeb$|\\xd4\\xc6\\xa2\\x06\\xb8jsd\\x8c\\xb0;\\xcf\\x05;\\xd4;!\\xadu\\xb9\\xb7:\\xeaf\\xcaK\\x9b\\x14\\x9di\\x1e%\\xa0\\xe3\\xe6s\\xee^\\xa0\\xc9nH\\xc6w\\xc7\\x82e\\to\\xe5\\x16B\\xd7\\x13\\x86;V\\xfc\\xc0\\xc7\\xf5^\\x96\\x95|3\\xad\\xb9\\xff\\x00#>\\xfeH\\x96\\xa0-N\\x0bP8-\\xdc\\xa6\\xe5\\xb9A\\xa18pA\\xa5\\x00\\xe41o\\x08\\xfb\\x964d\\xa01\\xacF\\x18\\x82\\xae\\xa6\\x9e\\x86\\x99\\xf5\\x15\\x93\\xc5O\\x03\\x06]$\\xaf\\rk}\\xe5W\\x9cG\\xd3\\x15\\x9a\\x83TVH$\\xb9L6\\xeb\\x0ec\\x84{\\xce\\xe7\\xdc=\\xe8\\t\\x9f\\x11\\xda#\\xbb\\xda\\xa5\\x81\\xeelog\\xdeG#\\xb91\\xc3\\xbc\\xf9`\\x90|\\x8a\\xae(\\xaa\\x05\\xd6\\x18ie\\x9ck\\x83\\x06\\x19\\x01\\xfd\\x1e\\xe2\\xab\\xfe$\\xe9\\x0f\\x898\\x86)i\\xea\\xebD4\\xb2\\x0c:\\x9a\\x99\\x9a\\x18G\\x81>\\xd1\\x1eD\\xab&\\xf5\\xc2\\xd5V\\xf9\\xe8k\\xe8\\xc9\\x10\\xcd\\x13X\\xe6\\xf2\\xd2\\xf6\\x8d\\xb1\\xea>\\x8b.\\\\76\\xe8\\xe0\\xe4\\xb3-&\\x96\\x1a\\x06\\xc63=Yx\\xc6tr\\x07\\xd5=\\xbb\\xdc`\\x84ufN\\xd0\\xf6X\\xd1\\xcf\\xc9B\\xa8\\x8d\\xcd\\xed\\x10\\x89\\\\\\xdcz\\x02\\xa4\\xf6{\\\\4\\xad\\xeb\\xea\\xdee\\x90\\x0c\\xeay\\xce\\x16\\x16\\xed\\xd3\\x94\\xbb\\xdd\\x05\\r%O[\\x0c\\xf9-\\x9ei\\x98\\xdd9\\xe4\\xd2{_\\xc3\\xa8\\xfb\\x92\\\\\\x1f\\xc4\\xb0\\xdf\\xa0\\x9a\\x9aW\\xb5\\xb7:\\'\\xba*\\x98\\xb9\\x17`\\x91\\xad\\xbeG\\x1e\\xe3\\xb7\\x86ev\\xbar\\x01\\xad\\x9d\\xbav=[O\\xe8\\xb7\\xc7\\xd4\\xaea\\x9a\\xa2V\\xdd_q\\xa2\\x9aH\\'\\xeb\\x9f+%\\x8c\\xe1\\xc3.%t\\xf1cf.>|\\xa6Yt\\xe9B\\x10\\x90\\xaa\\x0bWJw\\x98\\x1a\\xd1q\\xa6\\xa5\\xadh8$f\\'\\xf9\\xee2>Jmd\\xe9\\x02\\xc3u-\\x8eI\\x9fC;\\x8e\\x04u@\\x00O\\x93\\x86\\xdf\\x1c-~k\\x1d\\xa4\\xce\\x18@\\x96p\\xc8\\xc8\\xdc\\x1eE\\x06\\x14\\x99\\x0b\\xed\\xe6\\x86\\xc1k\\x96\\xe3s\\x90\\xc7O\\x1e\\x07e\\xba\\x9c\\xe2N\\x00\\x03\\xbc\\xaa\\xaa\\xff\\x00\\xd3\\x15t\\xa6H\\xb8~\\x86:frmEOnOP\\xdfd\\x1f]K\\xd4\\xe9\\xe2\\xa4\\xb6\\x82\\xd1G\\x9f\\xceK,\\xb8\\xf1\\xd2\\xd0\\xdf\\xe7T\\xe0\\xdcd\\xab\\xc7\\x1d\\x91\\xdd\\xce\\xe7q\\xbc\\xcf\\xd7]\\xab\\xaa*\\xdf\\x9c\\x8e\\xb5\\xe4\\x86\\xfa\\x0eC\\xdc\\x13\\x19\\x19\\x86\\xf9\\x9d\\x92\\xa0\\xee\\xb2Q\\xdah\\xf2\\xca\\xab5\\x01+e8\\xa8\\xb9\\xd2\\xc0\\xeeRL\\xc6\\x93\\xe4\\\\\\x02\\xebV\\xdb\\xdf\\x0c\\xb2=\\xees\\xd9\\x9c\\x06\\x93\\x90\\x07w\\xc9r\\xd7\\x0bS\\x9a\\x8e$\\xb6\\xc29\\xcbW\\x0cy\\x1d\\xda\\xa4h\\xca\\xec\\x12\\xdd@\\x87n\\xa2t*/Wl\\x89\\xd9\\x96\\x1d,x\\x1b\\xe9\\x18K\\xd8(\\x990\\x91\\xd5\\x07[\\x98\\xe1\\xa0\\x1f\\xae\\x13\\xba\\xb8\\xccA\\xc0\\xf2\\xee\\xf3\\x0b-6\\xe9\\x19U\\xf6\\xb9\\\\\\xe6vKZ\\xc1\\xb6G\\x89X\\\\u\\x9b\\xab\\xef|^\\x92\\xbc\\xd7\\xc9Ge\\xba>m\\x84t\\x92\\xbd\\x8f\\xf4i\\xd9s\\x18\\x01\\xac\\x00w\\x00\\x17Et\\xb1P)x\\x16\\xe4\\xe1\\x80\\xe9\\x03!\\x1f\\xbc\\xe0\\x0f\\xcb+\\x9d\\x8f\"\\xb7r\\x93`\\xd8\\xfa\\xa5\\x00\\x18\\xdd\\x00\\xe4Q\\x13\\x80\\x16\\xf8\\xf8\\x97\\xbd\\xc3\\xfc[x\\xb0\\r\\x14U\\x02Jo\\xf2\\xd3\\xe5\\xf1\\xfb\\xb7\\xcb}\\xc4{\\xd4\\xb1\\xbd+\\x9d#U\\x97\\xb5\\x8d\\xf1U\\xb6\\x7f\\xe8\\xab=H:\\xc6\\xfe\\xb2W\\x19F\\xd6\\'Oa\\xe2\\xebb$\\xfd\\xd1\\x8a`\\x07\\xfa\\xb53?-*\\xa8a\\xdb\\x1d\\xe1Nzn\\xab\\xa8\\x97\\x8e\\x9dO1\"\\x1ajx\\xc4#\\xbb\\x0e\\x1a\\x89\\xf8\\x9f\\x92\\x820\\x82\\xe7z\\xac\\xf1\\xf1T\\xa0\\xe6\\x8aOo\\xd0\\x04 \\xad;r\\xe4\\xef\\x82$]\\x1aD%\\xe3\\xab;\\\\2>\\xd6\\xc3\\xf09\\xfc\\x17W\\xaeW\\xe8\\xa8\\x7fo\\xac\\xe7\\xfd\\xc7\\xf2\\xb9uB\\xce\\x98\\x1c\\xc0\\xf3\\xb8\\x04\\x0eH\\xd0\\xc7\\xbbs\\xe3\\xba$\\x82\\xb1\\xe9\\xda\\xa8\\xc7\\xc3\\xf6\\xfa@\\xecu\\xd5\\x9a\\x9c<Z\\xd6;\\xf1!RNVwN\\xd5bk\\xf5\\xba\\x8c;\\xfb\\xb53\\xa4s\\x7f\\xe4p\\x03\\xff\\x002\\xab,+\\x9e\\x13M\\xdd\\xa5i\\xc7e\\xb1\\xb0I=\\xdd\\xcbl|MjG\\x06\\x82\\xe2\\x90\\xeaXw9\\xc9\\xe7\\xba\\xdc\\xcf\\x06F\\xb7\\xbb\\x99\\xf4H\\x99\\xce}\\xa6\\xa0$\\xbd.\\xd7\\x9a\\xfe?\\xb9e\\x81\\xad\\xa6\\xd3N\\xdf=#s\\xf1%C\\xe2;\\xbb>+\\xd6\\xe3*\\x81U\\xc5w\\xa9\\xc3\\xf5\\t+\\xe7 \\xf8\\x8dg\\x1f%\\xe2\\xb1\\xdb\\x91\\xe6\\xb1\\x8b9\\x0e[\\x1b\\x83\\xeaRl;\\xa3a\\xd8\\xfa\\xa7BQ\\xd1\\x9c\\x82.9\\xb38\\x9f\\xf1L\\x1f\\x1d\\xbf\\x15\\xd5G\\x92\\xe4\\x0e\\x1a\\xa84\\x9cAm\\xa9\\xcf\\xe6j\\xe1\\x90\\xfa5\\xe0\\xfe\\x0b\\xaf^\\xec0\\x95\\x146\\xc1\\x864x\\x00\\x88\\xacL\\xaf\\x15\\xf1\\xdb-uU\\xd3\\x9cEO\\x13\\xa5y\\xf2h$\\xfd\\x12\\x0e|\\xe9.\\xbf\\xf2\\x8f\\x1a\\xdc\\xe4\\x07,\\x89\\xe2\\x06\\x11\\xe0\\xc0\\x01\\xfe-J.\\xb7,\\xef\\xa9\\x9aI\\xe69\\x92W\\xbaG\\xfe\\xd19?T\\x0ev\\x02\\xb2&\\xe7`\\xa6\\xf2\\xc9\\xda!\\x1b\\x9e\\x99\\xcb&\\\\V\\xbe%\\xb0\\x0b\\xdc\\xe23\\xb8\\xc6Qu\\x0c\\xf2Y\\x01:3\\x9d\\xb3\\xdc\\x8b!\\x06e;\\x8b\\xe4s\\x9cr\\xe2I\\'\\xc57\\xce\\x1e\\x8d\\xdb\\xee\\x93w\\xb4\\x165E\\xc1JF{X\\xf1\\t\\x00Q\\xb0\\xf6\\xc2\\xa0]\\x9b?\\x99\\x19\\xdb!u\\xd7\\x0f\\\\\\x05\\xd7\\x86\\xad\\xd5\\xed9\\xfbE<ow\\xed`d|r\\xb9\\x0c\\x9eK\\xa4\\xfa\\x18\\xa8\\x92~\\x8fi\\x9b#\\xb2\"\\xa8\\x926\\xfe\\xce\\xbc\\xfe%M\\x0b\\x04\\xaa\\xeb\\xa6\\xbb\\xb3\\xe88S\\xecmx\\x0e\\xb8J\\xd8|\\xf4\\x8e\\xd3\\xbe!\\xb8\\xfd\\xe5b\\x9eJ\\x88\\xe9\\xe2\\xa6Y8\\x8e\\x82\\x9d\\xce\\xfb\\xa8\\xa9\\x0b\\xda\\xdf78\\xe4\\xff\\x00\\x08J\\x15V\\xc1\\xdb!{\\xb6@9\\x80\\x81\\xe4\\xee\\xab\\x1fE\\x03\\xdd\\xbaf\\xf7nS\\x92y\\xa6slJ\\xbaP\\xe6\\x99\\xf8\\x83>h\\xfa\\xd1\\xfa\\xa5#oq\\xc3\\x87ru\\xa8\\xa7;\\x81\\xff\\xd9'"
      ]
     },
     "execution_count": 37,
     "metadata": {},
     "output_type": "execute_result"
    }
   ],
   "source": [
    "#it is giving binary form of images\n",
    "requests.get(\"https://encrypted-tbn0.gstatic.com/images?q=tbn:ANd9GcQEoGcTehPfBt44vuvC8wyJieRSiGKWqDO2UHbGG34cRttKR5nGr_NDLJHg_1s&s\").content"
   ]
  },
  {
   "cell_type": "code",
   "execution_count": 38,
   "id": "b0d7ada0-37fd-4813-9980-8909057d4e65",
   "metadata": {},
   "outputs": [
    {
     "name": "stdout",
     "output_type": "stream",
     "text": [
      "0\n",
      "1\n",
      "2\n",
      "3\n",
      "4\n",
      "5\n",
      "6\n",
      "7\n",
      "8\n",
      "9\n",
      "10\n",
      "11\n",
      "12\n",
      "13\n",
      "14\n",
      "15\n",
      "16\n",
      "17\n",
      "18\n",
      "19\n"
     ]
    }
   ],
   "source": [
    "for i in image_tags:\n",
    "    print(image_tags.index(i))\n",
    "    "
   ]
  },
  {
   "cell_type": "code",
   "execution_count": 39,
   "id": "b5639206-f0c0-4ac2-a8c2-a20a4e26c954",
   "metadata": {},
   "outputs": [],
   "source": [
    "#download the images\n",
    "\n",
    "for i in image_tags:\n",
    "    image_url=i['src']\n",
    "    image_data=requests.get(image_url).content\n",
    "    with open(os.path.join(save_dir, f\"{query}_{image_tags.index(i)}.jpg\"),\"wb\") as f:\n",
    "        f.write(image_data)"
   ]
  },
  {
   "cell_type": "code",
   "execution_count": null,
   "id": "2ac79077-737a-41d7-b594-c95953336aa7",
   "metadata": {},
   "outputs": [],
   "source": []
  },
  {
   "cell_type": "code",
   "execution_count": null,
   "id": "76c05838-35e1-4f6e-8de5-9c3a73a814a7",
   "metadata": {},
   "outputs": [],
   "source": []
  }
 ],
 "metadata": {
  "kernelspec": {
   "display_name": "Python 3 (ipykernel)",
   "language": "python",
   "name": "python3"
  },
  "language_info": {
   "codemirror_mode": {
    "name": "ipython",
    "version": 3
   },
   "file_extension": ".py",
   "mimetype": "text/x-python",
   "name": "python",
   "nbconvert_exporter": "python",
   "pygments_lexer": "ipython3",
   "version": "3.9.0"
  }
 },
 "nbformat": 4,
 "nbformat_minor": 5
}
